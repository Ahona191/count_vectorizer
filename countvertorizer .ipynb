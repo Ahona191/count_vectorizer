{
 "cells": [
  {
   "cell_type": "code",
   "execution_count": 1,
   "id": "70e3b83d-fddd-4bee-97af-67e49725cbee",
   "metadata": {},
   "outputs": [],
   "source": [
    "from sklearn.feature_extraction.text import CountVectorizer "
   ]
  },
  {
   "cell_type": "code",
   "execution_count": 9,
   "id": "c612aab6-2148-4cb9-8159-b293f7875e27",
   "metadata": {},
   "outputs": [],
   "source": [
    "dataset=[\n",
    "    'Hey welcome to study mart', \n",
    "    'Hey I am Ahona', \n",
    "    'I love Data Science', \n",
    "    'please subscribe to to aiQuest',\n",
    "]"
   ]
  },
  {
   "cell_type": "code",
   "execution_count": 10,
   "id": "070e95cb-4788-4dfd-9142-bfaa667fcfae",
   "metadata": {},
   "outputs": [],
   "source": [
    "cv=CountVectorizer() \n",
    "x=cv.fit_transform(dataset)"
   ]
  },
  {
   "cell_type": "code",
   "execution_count": 11,
   "id": "ba668a3d-e1d3-40b4-bdac-9994285df8fd",
   "metadata": {},
   "outputs": [
    {
     "data": {
      "text/plain": [
       "array(['ahona', 'aiquest', 'am', 'data', 'hey', 'love', 'mart', 'please',\n",
       "       'science', 'study', 'subscribe', 'to', 'welcome'], dtype=object)"
      ]
     },
     "execution_count": 11,
     "metadata": {},
     "output_type": "execute_result"
    }
   ],
   "source": [
    "cv.get_feature_names_out()\n"
   ]
  },
  {
   "cell_type": "code",
   "execution_count": 12,
   "id": "5e5a7db2-1086-4408-b91d-4ccb717989f4",
   "metadata": {},
   "outputs": [
    {
     "data": {
      "text/plain": [
       "array([[0, 0, 0, 0, 1, 0, 1, 0, 0, 1, 0, 1, 1],\n",
       "       [1, 0, 1, 0, 1, 0, 0, 0, 0, 0, 0, 0, 0],\n",
       "       [0, 0, 0, 1, 0, 1, 0, 0, 1, 0, 0, 0, 0],\n",
       "       [0, 1, 0, 0, 0, 0, 0, 1, 0, 0, 1, 2, 0]], dtype=int64)"
      ]
     },
     "execution_count": 12,
     "metadata": {},
     "output_type": "execute_result"
    }
   ],
   "source": [
    "x.toarray()"
   ]
  },
  {
   "cell_type": "code",
   "execution_count": null,
   "id": "cd61fc75-a1af-4f94-80ef-8b7b022a3c81",
   "metadata": {},
   "outputs": [],
   "source": []
  }
 ],
 "metadata": {
  "kernelspec": {
   "display_name": "Python [conda env:base] *",
   "language": "python",
   "name": "conda-base-py"
  },
  "language_info": {
   "codemirror_mode": {
    "name": "ipython",
    "version": 3
   },
   "file_extension": ".py",
   "mimetype": "text/x-python",
   "name": "python",
   "nbconvert_exporter": "python",
   "pygments_lexer": "ipython3",
   "version": "3.12.3"
  }
 },
 "nbformat": 4,
 "nbformat_minor": 5
}
